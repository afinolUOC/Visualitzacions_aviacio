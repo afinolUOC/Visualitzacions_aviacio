{
 "cells": [
  {
   "cell_type": "code",
   "execution_count": 2,
   "id": "ca912082",
   "metadata": {},
   "outputs": [],
   "source": [
    "import numpy as np\n",
    "import pandas as pd"
   ]
  },
  {
   "cell_type": "code",
   "execution_count": 36,
   "id": "a5b33ee7",
   "metadata": {},
   "outputs": [
    {
     "data": {
      "text/html": [
       "<div>\n",
       "<style scoped>\n",
       "    .dataframe tbody tr th:only-of-type {\n",
       "        vertical-align: middle;\n",
       "    }\n",
       "\n",
       "    .dataframe tbody tr th {\n",
       "        vertical-align: top;\n",
       "    }\n",
       "\n",
       "    .dataframe thead th {\n",
       "        text-align: right;\n",
       "    }\n",
       "</style>\n",
       "<table border=\"1\" class=\"dataframe\">\n",
       "  <thead>\n",
       "    <tr style=\"text-align: right;\">\n",
       "      <th></th>\n",
       "      <th>direction</th>\n",
       "      <th>coverage</th>\n",
       "      <th>year</th>\n",
       "      <th>passengers</th>\n",
       "      <th>country_code</th>\n",
       "      <th>airport_code</th>\n",
       "    </tr>\n",
       "  </thead>\n",
       "  <tbody>\n",
       "    <tr>\n",
       "      <th>0</th>\n",
       "      <td>Arrivals</td>\n",
       "      <td>International</td>\n",
       "      <td>2017</td>\n",
       "      <td>408716</td>\n",
       "      <td>AT</td>\n",
       "      <td>LOWG</td>\n",
       "    </tr>\n",
       "    <tr>\n",
       "      <th>1</th>\n",
       "      <td>Arrivals</td>\n",
       "      <td>International</td>\n",
       "      <td>2018</td>\n",
       "      <td>441657</td>\n",
       "      <td>AT</td>\n",
       "      <td>LOWG</td>\n",
       "    </tr>\n",
       "    <tr>\n",
       "      <th>2</th>\n",
       "      <td>Arrivals</td>\n",
       "      <td>International</td>\n",
       "      <td>2019</td>\n",
       "      <td>448662</td>\n",
       "      <td>AT</td>\n",
       "      <td>LOWG</td>\n",
       "    </tr>\n",
       "    <tr>\n",
       "      <th>3</th>\n",
       "      <td>Arrivals</td>\n",
       "      <td>International</td>\n",
       "      <td>2020</td>\n",
       "      <td>76334</td>\n",
       "      <td>AT</td>\n",
       "      <td>LOWG</td>\n",
       "    </tr>\n",
       "    <tr>\n",
       "      <th>4</th>\n",
       "      <td>Arrivals</td>\n",
       "      <td>International</td>\n",
       "      <td>2021</td>\n",
       "      <td>82843</td>\n",
       "      <td>AT</td>\n",
       "      <td>LOWG</td>\n",
       "    </tr>\n",
       "  </tbody>\n",
       "</table>\n",
       "</div>"
      ],
      "text/plain": [
       "  direction       coverage  year  passengers country_code airport_code\n",
       "0  Arrivals  International  2017      408716           AT         LOWG\n",
       "1  Arrivals  International  2018      441657           AT         LOWG\n",
       "2  Arrivals  International  2019      448662           AT         LOWG\n",
       "3  Arrivals  International  2020       76334           AT         LOWG\n",
       "4  Arrivals  International  2021       82843           AT         LOWG"
      ]
     },
     "execution_count": 36,
     "metadata": {},
     "output_type": "execute_result"
    }
   ],
   "source": [
    "#Read passengers\n",
    "passengers = pd.read_csv('passengers.csv')\n",
    "\n",
    "passengers['country_code'] = passengers['country_code'].replace({'EL': 'GR'})\n",
    "passengers.head()"
   ]
  },
  {
   "cell_type": "code",
   "execution_count": 37,
   "id": "582726ab",
   "metadata": {},
   "outputs": [
    {
     "data": {
      "text/html": [
       "<div>\n",
       "<style scoped>\n",
       "    .dataframe tbody tr th:only-of-type {\n",
       "        vertical-align: middle;\n",
       "    }\n",
       "\n",
       "    .dataframe tbody tr th {\n",
       "        vertical-align: top;\n",
       "    }\n",
       "\n",
       "    .dataframe thead th {\n",
       "        text-align: right;\n",
       "    }\n",
       "</style>\n",
       "<table border=\"1\" class=\"dataframe\">\n",
       "  <thead>\n",
       "    <tr style=\"text-align: right;\">\n",
       "      <th></th>\n",
       "      <th>icao</th>\n",
       "      <th>airport</th>\n",
       "      <th>latitude</th>\n",
       "      <th>longitude</th>\n",
       "    </tr>\n",
       "  </thead>\n",
       "  <tbody>\n",
       "    <tr>\n",
       "      <th>0</th>\n",
       "      <td>LOWL</td>\n",
       "      <td>Linz Airport (Blue Danube Airport)</td>\n",
       "      <td>48.2332</td>\n",
       "      <td>14.1875</td>\n",
       "    </tr>\n",
       "    <tr>\n",
       "      <th>1</th>\n",
       "      <td>LOWS</td>\n",
       "      <td>Salzburg Airport</td>\n",
       "      <td>47.7933</td>\n",
       "      <td>13.0043</td>\n",
       "    </tr>\n",
       "    <tr>\n",
       "      <th>2</th>\n",
       "      <td>LOWK</td>\n",
       "      <td>Klagenfurt Airport</td>\n",
       "      <td>46.6425</td>\n",
       "      <td>14.3377</td>\n",
       "    </tr>\n",
       "    <tr>\n",
       "      <th>3</th>\n",
       "      <td>LOWG</td>\n",
       "      <td>Graz Airport</td>\n",
       "      <td>46.9911</td>\n",
       "      <td>15.4396</td>\n",
       "    </tr>\n",
       "    <tr>\n",
       "      <th>4</th>\n",
       "      <td>LOWI</td>\n",
       "      <td>Innsbruck Airport (Kranebitten Airport)</td>\n",
       "      <td>47.2602</td>\n",
       "      <td>11.3440</td>\n",
       "    </tr>\n",
       "  </tbody>\n",
       "</table>\n",
       "</div>"
      ],
      "text/plain": [
       "   icao                                  airport  latitude  longitude\n",
       "0  LOWL       Linz Airport (Blue Danube Airport)   48.2332    14.1875\n",
       "1  LOWS                         Salzburg Airport   47.7933    13.0043\n",
       "2  LOWK                       Klagenfurt Airport   46.6425    14.3377\n",
       "3  LOWG                             Graz Airport   46.9911    15.4396\n",
       "4  LOWI  Innsbruck Airport (Kranebitten Airport)   47.2602    11.3440"
      ]
     },
     "execution_count": 37,
     "metadata": {},
     "output_type": "execute_result"
    }
   ],
   "source": [
    "#Airport locations\n",
    "locations = pd.read_csv('airports_locations.csv')\n",
    "locations.head()"
   ]
  },
  {
   "cell_type": "code",
   "execution_count": 38,
   "id": "eb7b60a1",
   "metadata": {},
   "outputs": [
    {
     "data": {
      "text/html": [
       "<div>\n",
       "<style scoped>\n",
       "    .dataframe tbody tr th:only-of-type {\n",
       "        vertical-align: middle;\n",
       "    }\n",
       "\n",
       "    .dataframe tbody tr th {\n",
       "        vertical-align: top;\n",
       "    }\n",
       "\n",
       "    .dataframe thead th {\n",
       "        text-align: right;\n",
       "    }\n",
       "</style>\n",
       "<table border=\"1\" class=\"dataframe\">\n",
       "  <thead>\n",
       "    <tr style=\"text-align: right;\">\n",
       "      <th></th>\n",
       "      <th>name</th>\n",
       "      <th>code</th>\n",
       "      <th>region</th>\n",
       "    </tr>\n",
       "  </thead>\n",
       "  <tbody>\n",
       "    <tr>\n",
       "      <th>0</th>\n",
       "      <td>Albania</td>\n",
       "      <td>AL</td>\n",
       "      <td>Central and Eastern Europe</td>\n",
       "    </tr>\n",
       "    <tr>\n",
       "      <th>1</th>\n",
       "      <td>Andorra</td>\n",
       "      <td>AD</td>\n",
       "      <td>Western Europe</td>\n",
       "    </tr>\n",
       "    <tr>\n",
       "      <th>2</th>\n",
       "      <td>Argentina</td>\n",
       "      <td>AR</td>\n",
       "      <td>South America</td>\n",
       "    </tr>\n",
       "    <tr>\n",
       "      <th>3</th>\n",
       "      <td>Armenia</td>\n",
       "      <td>AM</td>\n",
       "      <td>Central and Eastern Europe</td>\n",
       "    </tr>\n",
       "    <tr>\n",
       "      <th>4</th>\n",
       "      <td>Austria</td>\n",
       "      <td>AT</td>\n",
       "      <td>Western Europe</td>\n",
       "    </tr>\n",
       "  </tbody>\n",
       "</table>\n",
       "</div>"
      ],
      "text/plain": [
       "        name code                      region\n",
       "0    Albania   AL  Central and Eastern Europe\n",
       "1    Andorra   AD              Western Europe\n",
       "2  Argentina   AR               South America\n",
       "3    Armenia   AM  Central and Eastern Europe\n",
       "4    Austria   AT              Western Europe"
      ]
     },
     "execution_count": 38,
     "metadata": {},
     "output_type": "execute_result"
    }
   ],
   "source": [
    "#Countries names\n",
    "countries = pd.read_json('CountryList.json')\n",
    "countries.head()"
   ]
  },
  {
   "cell_type": "code",
   "execution_count": 43,
   "id": "872481e0",
   "metadata": {},
   "outputs": [
    {
     "data": {
      "text/html": [
       "<div>\n",
       "<style scoped>\n",
       "    .dataframe tbody tr th:only-of-type {\n",
       "        vertical-align: middle;\n",
       "    }\n",
       "\n",
       "    .dataframe tbody tr th {\n",
       "        vertical-align: top;\n",
       "    }\n",
       "\n",
       "    .dataframe thead th {\n",
       "        text-align: right;\n",
       "    }\n",
       "</style>\n",
       "<table border=\"1\" class=\"dataframe\">\n",
       "  <thead>\n",
       "    <tr style=\"text-align: right;\">\n",
       "      <th></th>\n",
       "      <th>name</th>\n",
       "      <th>code</th>\n",
       "      <th>region</th>\n",
       "    </tr>\n",
       "  </thead>\n",
       "  <tbody>\n",
       "    <tr>\n",
       "      <th>31</th>\n",
       "      <td>Greece</td>\n",
       "      <td>GR</td>\n",
       "      <td>Southern Europe</td>\n",
       "    </tr>\n",
       "  </tbody>\n",
       "</table>\n",
       "</div>"
      ],
      "text/plain": [
       "      name code           region\n",
       "31  Greece   GR  Southern Europe"
      ]
     },
     "execution_count": 43,
     "metadata": {},
     "output_type": "execute_result"
    }
   ],
   "source": [
    "countries[countries['code'] == 'GR']"
   ]
  },
  {
   "cell_type": "code",
   "execution_count": 55,
   "id": "ea2dc537",
   "metadata": {},
   "outputs": [],
   "source": [
    "country_2022 = passengers[passengers['year'] == 2022].groupby(['country_code'])['passengers'].sum().reset_index()\n",
    "country_2019 = passengers[passengers['year'] == 2019].groupby(['country_code'])['passengers'].sum().reset_index()\n",
    "result = pd.merge(country_2019, country_2022, on='country_code', how='inner', suffixes=('_2019', '_2022'))\n",
    "result['resta'] = (result['passengers_2022'] - result['passengers_2019'])/result['passengers_2019'] * 100\n"
   ]
  },
  {
   "cell_type": "code",
   "execution_count": 58,
   "id": "57d54b47",
   "metadata": {},
   "outputs": [],
   "source": [
    "result = pd.merge(result, countries, left_on='country_code', right_on='code', how='inner')\n",
    "\n",
    "result = result.drop(columns = ['country_code','code','region','passengers_2019','passengers_2022']).sort_values(by='resta', ascending=False)"
   ]
  },
  {
   "cell_type": "code",
   "execution_count": 59,
   "id": "df9a3aba",
   "metadata": {},
   "outputs": [],
   "source": [
    "result.to_csv('variacio_paisos.csv', index=False)"
   ]
  },
  {
   "cell_type": "code",
   "execution_count": 72,
   "id": "5f3bce38",
   "metadata": {},
   "outputs": [],
   "source": [
    "airport_2022 = passengers[passengers['year'] == 2022].groupby(['airport_code'])['passengers'].sum().reset_index()\n",
    "airport_2019 = passengers[passengers['year'] == 2019].groupby(['airport_code'])['passengers'].sum().reset_index()\n",
    "result = pd.merge(airport_2019, airport_2022, on='airport_code', how='inner', suffixes=('_2019', '_2022'))\n",
    "result['resta'] = (result['passengers_2022'] - result['passengers_2019'])/result['passengers_2019'] * 100"
   ]
  },
  {
   "cell_type": "code",
   "execution_count": 73,
   "id": "d0486cb2",
   "metadata": {},
   "outputs": [],
   "source": [
    "result = pd.merge(result, locations, left_on='airport_code', right_on='icao', how='inner')\n",
    "result = result.drop(columns = ['airport_code','icao','passengers_2022',]).sort_values(by='passengers_2019', ascending=False)"
   ]
  },
  {
   "cell_type": "code",
   "execution_count": 77,
   "id": "f96e1db6",
   "metadata": {},
   "outputs": [],
   "source": [
    "result['group'] = result['resta'].apply(lambda x: 'Positive' if x > 0 else 'Negative')"
   ]
  },
  {
   "cell_type": "code",
   "execution_count": 81,
   "id": "2bcf5da2",
   "metadata": {},
   "outputs": [],
   "source": [
    "result.to_csv('variacio_aeroports.csv', index=False)"
   ]
  },
  {
   "cell_type": "code",
   "execution_count": 80,
   "id": "89fb32e2",
   "metadata": {},
   "outputs": [
    {
     "data": {
      "text/html": [
       "<div>\n",
       "<style scoped>\n",
       "    .dataframe tbody tr th:only-of-type {\n",
       "        vertical-align: middle;\n",
       "    }\n",
       "\n",
       "    .dataframe tbody tr th {\n",
       "        vertical-align: top;\n",
       "    }\n",
       "\n",
       "    .dataframe thead th {\n",
       "        text-align: right;\n",
       "    }\n",
       "</style>\n",
       "<table border=\"1\" class=\"dataframe\">\n",
       "  <thead>\n",
       "    <tr style=\"text-align: right;\">\n",
       "      <th></th>\n",
       "      <th>passengers_2019</th>\n",
       "      <th>resta</th>\n",
       "      <th>airport</th>\n",
       "      <th>latitude</th>\n",
       "      <th>longitude</th>\n",
       "      <th>group</th>\n",
       "    </tr>\n",
       "  </thead>\n",
       "  <tbody>\n",
       "    <tr>\n",
       "      <th>197</th>\n",
       "      <td>76195486</td>\n",
       "      <td>-24.549387</td>\n",
       "      <td>Paris Charles de Gaulle Airport</td>\n",
       "      <td>49.0097</td>\n",
       "      <td>2.54778</td>\n",
       "      <td>Negative</td>\n",
       "    </tr>\n",
       "    <tr>\n",
       "      <th>50</th>\n",
       "      <td>71742574</td>\n",
       "      <td>-26.859428</td>\n",
       "      <td>Amsterdam Airport Schiphol</td>\n",
       "      <td>52.3086</td>\n",
       "      <td>4.76389</td>\n",
       "      <td>Negative</td>\n",
       "    </tr>\n",
       "    <tr>\n",
       "      <th>12</th>\n",
       "      <td>70634781</td>\n",
       "      <td>-30.778765</td>\n",
       "      <td>Frankfurt Airport</td>\n",
       "      <td>50.0333</td>\n",
       "      <td>8.57056</td>\n",
       "      <td>Negative</td>\n",
       "    </tr>\n",
       "    <tr>\n",
       "      <th>161</th>\n",
       "      <td>59816612</td>\n",
       "      <td>-15.938684</td>\n",
       "      <td>Adolfo Suarez Madrid-Barajas Airport</td>\n",
       "      <td>40.4719</td>\n",
       "      <td>-3.56264</td>\n",
       "      <td>Negative</td>\n",
       "    </tr>\n",
       "    <tr>\n",
       "      <th>374</th>\n",
       "      <td>52031566</td>\n",
       "      <td>24.024904</td>\n",
       "      <td>Istanbul Ataturk Airport</td>\n",
       "      <td>41.2753</td>\n",
       "      <td>28.75190</td>\n",
       "      <td>Positive</td>\n",
       "    </tr>\n",
       "  </tbody>\n",
       "</table>\n",
       "</div>"
      ],
      "text/plain": [
       "     passengers_2019      resta                               airport  \\\n",
       "197         76195486 -24.549387       Paris Charles de Gaulle Airport   \n",
       "50          71742574 -26.859428            Amsterdam Airport Schiphol   \n",
       "12          70634781 -30.778765                     Frankfurt Airport   \n",
       "161         59816612 -15.938684  Adolfo Suarez Madrid-Barajas Airport   \n",
       "374         52031566  24.024904              Istanbul Ataturk Airport   \n",
       "\n",
       "     latitude  longitude     group  \n",
       "197   49.0097    2.54778  Negative  \n",
       "50    52.3086    4.76389  Negative  \n",
       "12    50.0333    8.57056  Negative  \n",
       "161   40.4719   -3.56264  Negative  \n",
       "374   41.2753   28.75190  Positive  "
      ]
     },
     "execution_count": 80,
     "metadata": {},
     "output_type": "execute_result"
    }
   ],
   "source": [
    "result.head()"
   ]
  },
  {
   "cell_type": "code",
   "execution_count": 92,
   "id": "3519cc6c",
   "metadata": {},
   "outputs": [],
   "source": [
    "result = passengers.groupby(['year','country_code'])['passengers'].sum().reset_index()\n",
    "\n",
    "result = pd.merge(result, countries, left_on='country_code', right_on='code', how='inner')\n",
    "result = result.drop(columns = ['country_code','code','region'])\n",
    "result = result.pivot(index='year', columns='name', values='passengers')"
   ]
  },
  {
   "cell_type": "code",
   "execution_count": 93,
   "id": "2e08735c",
   "metadata": {},
   "outputs": [],
   "source": [
    "result.to_csv('country_years.csv', index=True)"
   ]
  },
  {
   "cell_type": "code",
   "execution_count": null,
   "id": "b12a2503",
   "metadata": {},
   "outputs": [],
   "source": []
  }
 ],
 "metadata": {
  "kernelspec": {
   "display_name": "Python 3 (ipykernel)",
   "language": "python",
   "name": "python3"
  },
  "language_info": {
   "codemirror_mode": {
    "name": "ipython",
    "version": 3
   },
   "file_extension": ".py",
   "mimetype": "text/x-python",
   "name": "python",
   "nbconvert_exporter": "python",
   "pygments_lexer": "ipython3",
   "version": "3.11.5"
  }
 },
 "nbformat": 4,
 "nbformat_minor": 5
}
